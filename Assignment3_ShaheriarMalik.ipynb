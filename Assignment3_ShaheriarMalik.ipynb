{
 "cells": [
  {
   "cell_type": "markdown",
   "metadata": {},
   "source": [
    "# CS171 - Winter 2020 - Assignment 3\n",
    "### Instructor: Vagelis Papalexakis\n",
    "### TA: Yorgos Tsitsikas\n",
    "### Credit for  Assignment 3: 15/40 points of the final grade\n",
    "\n",
    "In this assignment we will implement the K-means clustering algorithm. We are going to use the same dataset as in the previous two assignments (<b>Note</b>: make sure you copy the dataset from Assignment 1 to the folder of this assignment!)."
   ]
  },
  {
   "cell_type": "code",
   "execution_count": 5,
   "metadata": {},
   "outputs": [],
   "source": [
    "import numpy as np\n",
    "import pandas as pd\n",
    "import matplotlib.pyplot as plt\n",
    "import seaborn as sb\n",
    "import random as rand\n",
    "from sklearn.model_selection import train_test_split\n",
    "\n",
    "\n",
    "data_names = ['sepal_length', 'sepal_width', 'petal_length', 'petal_width', 'label']\n",
    "data = pd.read_csv('iris.data', \n",
    "                   names = data_names)"
   ]
  },
  {
   "cell_type": "markdown",
   "metadata": {},
   "source": [
    "## Question 1: Implementing and testing K-means clustering [100%]\n",
    "### Question 1a: Implementing K-Means clustering [50%]\n",
    "In this question you should implement a function that performs k-means clustering, using the Euclidean distance (you may use Numpy libraries for the distance computation). For calculation of the centroid you should use the 'mean' function.\n",
    "\n",
    "For uniformity, you should implement a function with the following specifications:\n",
    "```python\n",
    "def kmeans_clustering(all_vals,K,max_iter = 100, tol = pow(10,-3) ):\n",
    "```\n",
    "where 1) 'all_vals' is the $N \\times M$ matrix that contains all data points ($N$ is the number of data points and $M$ is the number of features, each row of the matrix is a data point), 2) 'K' is the number of clusters, 3) 'max_iter' is the maxium number of iterations, and 4) 'tol' is the tolerance for the change of the sum of squares of errors that determines convergence.\n",
    "\n",
    "Your function should return the following variables: 1) 'assignments': this is a $N\\times 1$ vector (where $N$ is the number of data points) where the $i$-th position of that vector contains the cluster number that the $i$-th data point is assigned to, 2) 'centroids': this is a $K\\times M$ matrix, each row of which contains the centroid for every cluster, 3) 'all_sse': this is a vector that contains all the sum of squares of errors per iteration of the algorithm, and 4) 'iters': this is the number of iterations that the algorithm ran.\n",
    "\n",
    "Here we are going to implement the simplest version of K-means, where the initial centroids are chosen entirely at random among all the data points.\n",
    "\n",
    "As we saw in class, the K-means algorithm iterates over the following steps:\n",
    "- Given a set of centroids, assign all data points to the cluster represented by its nearest centroid (according to Euclidean distance)\n",
    "- Given a set of assignments of points to clusters, compute the new centroids for every cluster, by taking the mean of all the points assigned to each cluster.\n",
    "\n",
    "Your algorithm should converge if 1) the maximum number of iterations is reached, or 2) if the SSE between two consecutive iterations does not change a lot (as in the gradient descent for linear regression we saw in Assignment 2). In order to check for the latter condition, you may use the following piece of code:\n",
    "```python\n",
    "if np.absolute(all_sse[it] - all_sse[it-1])/all_sse[it-1] <= tol\n",
    "```\n",
    "\n",
    "In order to calculate the SSE (sum of squares of error) first you need to define what an 'error' is. In k-means, error per data point refers to the Euclidean distance of that particular point from its assigned centroid. SSE sums up all those squared Euclidean distances for all data points and comes up with a number that reflects the total error of approximating every data points by its assigned centroid.\n",
    "\n",
    "\n"
   ]
  },
  {
   "cell_type": "code",
   "execution_count": 6,
   "metadata": {},
   "outputs": [
    {
     "name": "stdout",
     "output_type": "stream",
     "text": [
      "{'assignments': [0, 0, 0, 0, 0, 0, 0, 0, 0, 0, 0, 0, 0, 0, 0, 0, 0, 0, 0, 0, 0, 0, 0, 0, 0, 0, 0, 0, 0, 0, 0, 0, 0, 0, 0, 0, 0, 0, 0, 0, 0, 0, 0, 0, 0, 0, 0, 0, 0, 0, 2, 1, 2, 1, 1, 1, 2, 0, 2, 1, 1, 1, 1, 1, 1, 2, 1, 1, 1, 1, 1, 1, 1, 1, 1, 2, 2, 2, 1, 1, 1, 1, 1, 1, 1, 1, 2, 1, 1, 1, 1, 1, 1, 0, 1, 1, 1, 1, 0, 1, 2, 1, 2, 2, 2, 2, 1, 2, 2, 2, 2, 2, 2, 1, 1, 2, 2, 2, 2, 1, 2, 1, 2, 1, 2, 2, 1, 1, 2, 2, 2, 2, 2, 2, 2, 2, 2, 2, 1, 2, 2, 2, 1, 2, 2, 2, 1, 2, 2, 1, 0, 0, 0, 0, 0, 0, 0, 0, 0, 0, 0, 0, 0, 0, 0, 0, 0, 0, 0, 0, 0, 0, 0, 0, 0, 0, 0, 0, 0, 0, 0, 0, 0, 0, 0, 0, 0, 0, 0, 0, 0, 0, 0, 0, 0, 0, 0, 0, 0, 0, 2, 1, 2, 1, 1, 1, 1, 0, 1, 1, 0, 1, 1, 1, 1, 1, 1, 1, 1, 1, 1, 1, 1, 1, 1, 1, 1, 2, 1, 0, 0, 0, 1, 1, 1, 1, 2, 1, 1, 1, 1, 1, 1, 0, 1, 1, 1, 1, 0, 1, 2, 1, 2, 2, 2, 2, 1, 2, 2, 2, 2, 2, 2, 1, 2, 2, 2, 2, 2, 1, 2, 1, 2, 1, 2, 2, 1, 1, 2, 2, 2, 2, 2, 1, 1, 2, 2, 2, 1, 2, 2, 2, 1, 2, 2, 2, 1, 2, 2, 1], 'centroids': [2.55, 3.9000000000000004, 4.074999999999999], 'sse': [2045.0599999999995, 2045.0599999999995], 'iterations': 1}\n"
     ]
    }
   ],
   "source": [
    "#k-means clustering\n",
    "def kmeans_clustering(all_vals,K,max_iter = 100, tol = pow(10,-3) ):\n",
    "    centroids = rand.sample(all_vals,K)\n",
    "    assignments = list()\n",
    "    all_sse = list()\n",
    "    result = dict()\n",
    "    iters = 0\n",
    "\n",
    "    for it in range(max_iter):\n",
    "        for i in range(len(all_vals)):\n",
    "        # for each data point, find the closest centroid\n",
    "            distances = [np.linalg.norm(np.array(all_vals[i]) - np.array(centroids[j])) for j in range(K)]\n",
    "            assignments.append(distances.index(min(distances)))\n",
    "\n",
    "        # update centroids\n",
    "        for i in range(K):\n",
    "            try:\n",
    "                centroids[i] = np.mean(all_vals[assignments.index(i)], axis = 0)\n",
    "            except:\n",
    "                print('Empty Cluster', i)\n",
    "\n",
    "        # calculate sum of squared errors\n",
    "        sse = 0\n",
    "        for i in range(len(all_vals)):\n",
    "            assncentroid = centroids[assignments[i]]\n",
    "            sse += np.linalg.norm(np.array(all_vals[i]) - np.array(assncentroid))**2\n",
    "        all_sse.append(sse)\n",
    "\n",
    "        if it > 0:\n",
    "            if np.absolute(all_sse[it] - all_sse[it-1])/all_sse[it-1] <= tol:\n",
    "                break\n",
    "\n",
    "        iters += 1\n",
    "\n",
    "    result['assignments'] = assignments\n",
    "    result['centroids'] = centroids\n",
    "    result['sse'] = all_sse\n",
    "    result['iterations'] = iters\n",
    "    return result\n",
    "\n",
    "all_vals = (data.drop(columns='label').values).tolist()\n",
    "print(kmeans_clustering(all_vals, 3))\n"
   ]
  },
  {
   "cell_type": "markdown",
   "metadata": {},
   "source": [
    "### Question 1b: Visualizing K-means [10%]\n",
    "In this question we wll visualize the result of the K-means algorithm. For ease of visualization, we will focus on a scatterplot of two of the four features of the Iris dataset. In particular: run your K-means code with K=3 and default values for the rest of the inputs. Subsequently, make a single scatterplot that contains all data points of the dataset for features 'sepal_length' and 'petal_length' and color every data point according to its cluster assignment."
   ]
  },
  {
   "cell_type": "code",
   "execution_count": 22,
   "metadata": {},
   "outputs": [
    {
     "data": {
      "text/plain": [
       "<AxesSubplot:xlabel='sepal_length', ylabel='petal_length'>"
      ]
     },
     "execution_count": 22,
     "metadata": {},
     "output_type": "execute_result"
    },
    {
     "data": {
      "image/png": "[encoded data removed]",
      "text/plain": [
       "<Figure size 432x288 with 1 Axes>"
      ]
     },
     "metadata": {
      "needs_background": "light"
     },
     "output_type": "display_data"
    }
   ],
   "source": [
    "splen = (data[['sepal_length', 'petal_length']].values).tolist()\n",
    "kmeans = kmeans_clustering(splen, 3)\n",
    "\n",
    "clusters = list()\n",
    "for i in range(len(splen)):\n",
    "    clusters.append((splen[i][0], splen[i][1], kmeans['assignments'][i]))\n",
    "\n",
    "sb.scatterplot(x=\"sepal_length\", y=\"petal_length\", data=pd.DataFrame(clusters, columns=['sepal_length', 'petal_length', 'cluster']), hue='cluster')"
   ]
  },
  {
   "cell_type": "markdown",
   "metadata": {},
   "source": [
    "### Question 1c: Testing K-means [40%]\n",
    "Selecting the right number of clusters $K$ is a very challenging problem, especially when we don't have some side-information or domain expertise that can help us narrow down a few reasonable values for that parameter. \n",
    "\n",
    "In the absence of any other information, a very useful exercise is to create the plot of SSE (sum of squares of errors) as a function of $K$. Ideally, for a very small $K$, the error will be high (since we are trying to approximate a whole lot of points with a very small number of centroids) and as $K$ increases, the error decreases. However, after a certain value (or a couple of values) for $K$, we will notice diminishing returns, i.e., the error will be decreasing, but not to a great degree. Typically, the value(s) for $K$ where this behavior is observed (the threshold point after which we observe diminishing returns) is usually a good guess for the number of clusters. \n",
    "\n",
    "In this question, we will have to create the SSE vs. K plot for $K = 1\\cdots10$. Furthermore, because K-means uses randomized initialization, we need to do a number of iterations per value of $K$ in order to get a good estimate of the actual SSE (which may not be caused by randomness in the initialization). For this question, you will have to run the entire K-means algorithm to completion, and repeat it 50 different times per $K$, and collect all SSEs. In the figure, you should report the mean SSE per $K$, surrounded by error-bars which will encode the standard deviation."
   ]
  },
  {
   "cell_type": "code",
   "execution_count": 9,
   "metadata": {},
   "outputs": [
    {
     "name": "stdout",
     "output_type": "stream",
     "text": [
      "K = 1\n",
      "K = 2\n",
      "K = 3\n",
      "K = 4\n",
      "K = 5\n",
      "K = 6\n",
      "K = 7\n",
      "K = 8\n",
      "K = 9\n",
      "Empty Cluster 8\n",
      "Empty Cluster 8\n",
      "K = 10\n"
     ]
    },
    {
     "data": {
      "text/plain": [
       "<ErrorbarContainer object of 3 artists>"
      ]
     },
     "execution_count": 9,
     "metadata": {},
     "output_type": "execute_result"
    },
    {
     "data": {
      "image/png": "[encoded data removed]",
      "text/plain": [
       "<Figure size 432x288 with 1 Axes>"
      ]
     },
     "metadata": {
      "needs_background": "light"
     },
     "output_type": "display_data"
    }
   ],
   "source": [
    "#your code here\n",
    "avg = list()\n",
    "std = list()\n",
    "\n",
    "for i in range(1,11):\n",
    "    print('K =',i)\n",
    "    sse = list()\n",
    "    for j in range(50):\n",
    "        # getting the last error value\n",
    "        sse.append(kmeans_clustering(all_vals, i)['sse'][-1])\n",
    "\n",
    "    avg.append(np.mean(sse))\n",
    "    std.append(np.std(sse))\n",
    "\n",
    "plt.errorbar(range(1, 11), avg, marker=\"o\", yerr=std, capsize=5)"
   ]
  }
 ],
 "metadata": {
  "kernelspec": {
   "display_name": "Python 3",
   "language": "python",
   "name": "python3"
  },
  "language_info": {
   "codemirror_mode": {
    "name": "ipython",
    "version": 3
   },
   "file_extension": ".py",
   "mimetype": "text/x-python",
   "name": "python",
   "nbconvert_exporter": "python",
   "pygments_lexer": "ipython3",
   "version": "3.9.1"
  }
 },
 "nbformat": 4,
 "nbformat_minor": 2
}
